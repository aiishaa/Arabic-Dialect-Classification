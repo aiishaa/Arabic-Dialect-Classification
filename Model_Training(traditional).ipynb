{
  "cells": [
    {
      "cell_type": "markdown",
      "metadata": {
        "id": "view-in-github",
        "colab_type": "text"
      },
      "source": [
        "<a href=\"https://colab.research.google.com/github/aiishaa/Arabic-Dialect-Classification/blob/main/Model_Training(traditional).ipynb\" target=\"_parent\"><img src=\"https://colab.research.google.com/assets/colab-badge.svg\" alt=\"Open In Colab\"/></a>"
      ]
    },
    {
      "cell_type": "code",
      "source": [
        "import pandas as pd\n",
        "from sklearn.pipeline import Pipeline\n",
        "from sklearn.svm import LinearSVC\n",
        "from sklearn.feature_extraction.text import CountVectorizer, TfidfTransformer, TfidfVectorizer\n",
        "from sklearn.model_selection import train_test_split, cross_val_score\n",
        "from sklearn.naive_bayes import MultinomialNB, ComplementNB\n",
        "from sklearn.metrics import accuracy_score, plot_confusion_matrix, classification_report, f1_score, recall_score\n",
        "\n",
        "random_df = pd.read_csv('/content/drive/MyDrive/cleaned_texts.csv')\n",
        "print(random_df['text_cleaned'].head())\n",
        "dialect = random_df[\"dialect\"].to_numpy()"
      ],
      "metadata": {
        "colab": {
          "base_uri": "https://localhost:8080/"
        },
        "id": "PmsyF_Ji694b",
        "outputId": "cece8e84-dbbf-45f0-d75b-b3384603aff4"
      },
      "execution_count": 1,
      "outputs": [
        {
          "output_type": "stream",
          "name": "stdout",
          "text": [
            "0    لا بقي كانت نازله قبل كده وشهر ميلادي كان امري...\n",
            "1                                   شكلك معاهم يا فواز\n",
            "2    حتى البوم بستناك اللي صرلوا فوق ال سنين تفوق ع...\n",
            "3                         تى هذا نووووووورك ياصاحبتى ❤\n",
            "4    صول اخوي متعلم ان كل خميس اطلعه من المدرسة وام...\n",
            "Name: text_cleaned, dtype: object\n"
          ]
        }
      ]
    },
    {
      "cell_type": "code",
      "source": [
        "random_df.head()"
      ],
      "metadata": {
        "colab": {
          "base_uri": "https://localhost:8080/",
          "height": 389
        },
        "id": "cDOjczkRNfmT",
        "outputId": "394acf86-f9a0-4529-abc5-b933fec528b1"
      },
      "execution_count": 2,
      "outputs": [
        {
          "output_type": "execute_result",
          "data": {
            "text/plain": [
              "   dialect  Unnamed: 1  Unnamed: 0                   id  dialect.1  \\\n",
              "0       11      301469      301469  1108148310400008192         11   \n",
              "1        8      202870      202870  1134884041243734016          8   \n",
              "2        1       43149       43149   863041761098305536          1   \n",
              "3        1       35818       35818  1078430883349217152          1   \n",
              "4        2       63640       63640  1095955494072668160          2   \n",
              "\n",
              "                                                text  \\\n",
              "0  ['@soad_saed @vip_nooooona لا بقي كانت نازله ق...   \n",
              "1           ['@Fawaz_Allogmani شكلك معاهم يا فواز😂']   \n",
              "2  ['@karimdiab17 @omarfareskh @ysfmohamad @super...   \n",
              "3       ['@numidie10 تى هذا نووووووورك ياصاحبتى 😍❤']   \n",
              "4  ['فصول اخوي متعلم ان كل خميس اطلعه من المدرسة ...   \n",
              "\n",
              "                                        text_cleaned  \n",
              "0  لا بقي كانت نازله قبل كده وشهر ميلادي كان امري...  \n",
              "1                                 شكلك معاهم يا فواز  \n",
              "2  حتى البوم بستناك اللي صرلوا فوق ال سنين تفوق ع...  \n",
              "3                       تى هذا نووووووورك ياصاحبتى ❤  \n",
              "4  صول اخوي متعلم ان كل خميس اطلعه من المدرسة وام...  "
            ],
            "text/html": [
              "\n",
              "  <div id=\"df-2a44ee33-148e-4d9c-a6bc-03aba4b7c465\">\n",
              "    <div class=\"colab-df-container\">\n",
              "      <div>\n",
              "<style scoped>\n",
              "    .dataframe tbody tr th:only-of-type {\n",
              "        vertical-align: middle;\n",
              "    }\n",
              "\n",
              "    .dataframe tbody tr th {\n",
              "        vertical-align: top;\n",
              "    }\n",
              "\n",
              "    .dataframe thead th {\n",
              "        text-align: right;\n",
              "    }\n",
              "</style>\n",
              "<table border=\"1\" class=\"dataframe\">\n",
              "  <thead>\n",
              "    <tr style=\"text-align: right;\">\n",
              "      <th></th>\n",
              "      <th>dialect</th>\n",
              "      <th>Unnamed: 1</th>\n",
              "      <th>Unnamed: 0</th>\n",
              "      <th>id</th>\n",
              "      <th>dialect.1</th>\n",
              "      <th>text</th>\n",
              "      <th>text_cleaned</th>\n",
              "    </tr>\n",
              "  </thead>\n",
              "  <tbody>\n",
              "    <tr>\n",
              "      <th>0</th>\n",
              "      <td>11</td>\n",
              "      <td>301469</td>\n",
              "      <td>301469</td>\n",
              "      <td>1108148310400008192</td>\n",
              "      <td>11</td>\n",
              "      <td>['@soad_saed @vip_nooooona لا بقي كانت نازله ق...</td>\n",
              "      <td>لا بقي كانت نازله قبل كده وشهر ميلادي كان امري...</td>\n",
              "    </tr>\n",
              "    <tr>\n",
              "      <th>1</th>\n",
              "      <td>8</td>\n",
              "      <td>202870</td>\n",
              "      <td>202870</td>\n",
              "      <td>1134884041243734016</td>\n",
              "      <td>8</td>\n",
              "      <td>['@Fawaz_Allogmani شكلك معاهم يا فواز😂']</td>\n",
              "      <td>شكلك معاهم يا فواز</td>\n",
              "    </tr>\n",
              "    <tr>\n",
              "      <th>2</th>\n",
              "      <td>1</td>\n",
              "      <td>43149</td>\n",
              "      <td>43149</td>\n",
              "      <td>863041761098305536</td>\n",
              "      <td>1</td>\n",
              "      <td>['@karimdiab17 @omarfareskh @ysfmohamad @super...</td>\n",
              "      <td>حتى البوم بستناك اللي صرلوا فوق ال سنين تفوق ع...</td>\n",
              "    </tr>\n",
              "    <tr>\n",
              "      <th>3</th>\n",
              "      <td>1</td>\n",
              "      <td>35818</td>\n",
              "      <td>35818</td>\n",
              "      <td>1078430883349217152</td>\n",
              "      <td>1</td>\n",
              "      <td>['@numidie10 تى هذا نووووووورك ياصاحبتى 😍❤']</td>\n",
              "      <td>تى هذا نووووووورك ياصاحبتى ❤</td>\n",
              "    </tr>\n",
              "    <tr>\n",
              "      <th>4</th>\n",
              "      <td>2</td>\n",
              "      <td>63640</td>\n",
              "      <td>63640</td>\n",
              "      <td>1095955494072668160</td>\n",
              "      <td>2</td>\n",
              "      <td>['فصول اخوي متعلم ان كل خميس اطلعه من المدرسة ...</td>\n",
              "      <td>صول اخوي متعلم ان كل خميس اطلعه من المدرسة وام...</td>\n",
              "    </tr>\n",
              "  </tbody>\n",
              "</table>\n",
              "</div>\n",
              "      <button class=\"colab-df-convert\" onclick=\"convertToInteractive('df-2a44ee33-148e-4d9c-a6bc-03aba4b7c465')\"\n",
              "              title=\"Convert this dataframe to an interactive table.\"\n",
              "              style=\"display:none;\">\n",
              "        \n",
              "  <svg xmlns=\"http://www.w3.org/2000/svg\" height=\"24px\"viewBox=\"0 0 24 24\"\n",
              "       width=\"24px\">\n",
              "    <path d=\"M0 0h24v24H0V0z\" fill=\"none\"/>\n",
              "    <path d=\"M18.56 5.44l.94 2.06.94-2.06 2.06-.94-2.06-.94-.94-2.06-.94 2.06-2.06.94zm-11 1L8.5 8.5l.94-2.06 2.06-.94-2.06-.94L8.5 2.5l-.94 2.06-2.06.94zm10 10l.94 2.06.94-2.06 2.06-.94-2.06-.94-.94-2.06-.94 2.06-2.06.94z\"/><path d=\"M17.41 7.96l-1.37-1.37c-.4-.4-.92-.59-1.43-.59-.52 0-1.04.2-1.43.59L10.3 9.45l-7.72 7.72c-.78.78-.78 2.05 0 2.83L4 21.41c.39.39.9.59 1.41.59.51 0 1.02-.2 1.41-.59l7.78-7.78 2.81-2.81c.8-.78.8-2.07 0-2.86zM5.41 20L4 18.59l7.72-7.72 1.47 1.35L5.41 20z\"/>\n",
              "  </svg>\n",
              "      </button>\n",
              "      \n",
              "  <style>\n",
              "    .colab-df-container {\n",
              "      display:flex;\n",
              "      flex-wrap:wrap;\n",
              "      gap: 12px;\n",
              "    }\n",
              "\n",
              "    .colab-df-convert {\n",
              "      background-color: #E8F0FE;\n",
              "      border: none;\n",
              "      border-radius: 50%;\n",
              "      cursor: pointer;\n",
              "      display: none;\n",
              "      fill: #1967D2;\n",
              "      height: 32px;\n",
              "      padding: 0 0 0 0;\n",
              "      width: 32px;\n",
              "    }\n",
              "\n",
              "    .colab-df-convert:hover {\n",
              "      background-color: #E2EBFA;\n",
              "      box-shadow: 0px 1px 2px rgba(60, 64, 67, 0.3), 0px 1px 3px 1px rgba(60, 64, 67, 0.15);\n",
              "      fill: #174EA6;\n",
              "    }\n",
              "\n",
              "    [theme=dark] .colab-df-convert {\n",
              "      background-color: #3B4455;\n",
              "      fill: #D2E3FC;\n",
              "    }\n",
              "\n",
              "    [theme=dark] .colab-df-convert:hover {\n",
              "      background-color: #434B5C;\n",
              "      box-shadow: 0px 1px 3px 1px rgba(0, 0, 0, 0.15);\n",
              "      filter: drop-shadow(0px 1px 2px rgba(0, 0, 0, 0.3));\n",
              "      fill: #FFFFFF;\n",
              "    }\n",
              "  </style>\n",
              "\n",
              "      <script>\n",
              "        const buttonEl =\n",
              "          document.querySelector('#df-2a44ee33-148e-4d9c-a6bc-03aba4b7c465 button.colab-df-convert');\n",
              "        buttonEl.style.display =\n",
              "          google.colab.kernel.accessAllowed ? 'block' : 'none';\n",
              "\n",
              "        async function convertToInteractive(key) {\n",
              "          const element = document.querySelector('#df-2a44ee33-148e-4d9c-a6bc-03aba4b7c465');\n",
              "          const dataTable =\n",
              "            await google.colab.kernel.invokeFunction('convertToInteractive',\n",
              "                                                     [key], {});\n",
              "          if (!dataTable) return;\n",
              "\n",
              "          const docLinkHtml = 'Like what you see? Visit the ' +\n",
              "            '<a target=\"_blank\" href=https://colab.research.google.com/notebooks/data_table.ipynb>data table notebook</a>'\n",
              "            + ' to learn more about interactive tables.';\n",
              "          element.innerHTML = '';\n",
              "          dataTable['output_type'] = 'display_data';\n",
              "          await google.colab.output.renderOutput(dataTable, element);\n",
              "          const docLink = document.createElement('div');\n",
              "          docLink.innerHTML = docLinkHtml;\n",
              "          element.appendChild(docLink);\n",
              "        }\n",
              "      </script>\n",
              "    </div>\n",
              "  </div>\n",
              "  "
            ]
          },
          "metadata": {},
          "execution_count": 2
        }
      ]
    },
    {
      "cell_type": "code",
      "execution_count": 3,
      "metadata": {
        "colab": {
          "base_uri": "https://localhost:8080/"
        },
        "id": "lOLL-7HTVxb1",
        "outputId": "e18394af-152b-474c-a2f5-39383e6f87e4"
      },
      "outputs": [
        {
          "output_type": "stream",
          "name": "stdout",
          "text": [
            "Accuracy: 0.4809259259259259\n",
            "              precision    recall  f1-score   support\n",
            "\n",
            "           0       0.68      0.58      0.63       909\n",
            "           1       0.70      0.57      0.63       927\n",
            "           2       0.33      0.50      0.40       907\n",
            "           3       0.40      0.38      0.39       954\n",
            "           4       0.44      0.39      0.41       896\n",
            "           5       0.62      0.57      0.60       850\n",
            "           6       0.35      0.30      0.32       922\n",
            "           7       0.68      0.67      0.68       821\n",
            "           8       0.35      0.39      0.37       880\n",
            "           9       0.49      0.34      0.40       936\n",
            "          10       0.55      0.55      0.55       901\n",
            "          11       0.53      0.79      0.63       872\n",
            "          12       0.54      0.63      0.58       918\n",
            "          13       0.41      0.37      0.39       886\n",
            "          14       0.39      0.32      0.35       893\n",
            "          15       0.66      0.63      0.64       911\n",
            "          16       0.34      0.42      0.38       924\n",
            "          17       0.32      0.29      0.30       893\n",
            "\n",
            "    accuracy                           0.48     16200\n",
            "   macro avg       0.49      0.48      0.48     16200\n",
            "weighted avg       0.49      0.48      0.48     16200\n",
            "\n"
          ]
        }
      ],
      "source": [
        "X = random_df['text_cleaned'].astype(str)\n",
        "tfidf_vec = TfidfVectorizer()\n",
        "X_vals = tfidf_vec.fit_transform(X)\n",
        "X_train, X_test, y_train, y_test = train_test_split(X_vals, dialect, random_state = 22, test_size=0.1)\n",
        "clf_nb = MultinomialNB()\n",
        "clf_nb.fit(X_train, y_train)\n",
        "nb_y_predict = clf_nb.predict(X_test)\n",
        "print(f'Accuracy: {accuracy_score(nb_y_predict, y_test)}')\n",
        "#print(confusion_matrix(y_test, y_pred))\n",
        "print(classification_report(y_test, nb_y_predict))"
      ]
    },
    {
      "cell_type": "code",
      "source": [
        "X_train, X_test, y_train, y_test = train_test_split(X_vals, dialect, test_size=0.1)\n",
        "model_cnb = ComplementNB(alpha=1,norm=False)\n",
        "model_cnb.fit(X_train, y_train)\n",
        "predict=model_cnb.predict(X_test)\n",
        "print(f1_score(y_test,predict, average='weighted'))\n",
        "print(classification_report(y_test,predict))"
      ],
      "metadata": {
        "colab": {
          "base_uri": "https://localhost:8080/"
        },
        "id": "sdYXTmMzo7g_",
        "outputId": "888ea2cf-77af-43ae-de42-f079609b8ef0"
      },
      "execution_count": 4,
      "outputs": [
        {
          "output_type": "stream",
          "name": "stdout",
          "text": [
            "0.448086925483011\n",
            "              precision    recall  f1-score   support\n",
            "\n",
            "           0       0.55      0.61      0.58       872\n",
            "           1       0.58      0.51      0.54       907\n",
            "           2       0.36      0.43      0.39       862\n",
            "           3       0.39      0.32      0.35       933\n",
            "           4       0.40      0.33      0.36       895\n",
            "           5       0.57      0.58      0.58       886\n",
            "           6       0.35      0.25      0.29       917\n",
            "           7       0.63      0.68      0.65       898\n",
            "           8       0.34      0.36      0.35       885\n",
            "           9       0.42      0.31      0.36       866\n",
            "          10       0.52      0.53      0.52       918\n",
            "          11       0.49      0.72      0.58       932\n",
            "          12       0.48      0.64      0.55       891\n",
            "          13       0.37      0.37      0.37       876\n",
            "          14       0.39      0.32      0.35       947\n",
            "          15       0.58      0.61      0.59       885\n",
            "          16       0.34      0.34      0.34       925\n",
            "          17       0.34      0.29      0.31       905\n",
            "\n",
            "    accuracy                           0.46     16200\n",
            "   macro avg       0.45      0.46      0.45     16200\n",
            "weighted avg       0.45      0.46      0.45     16200\n",
            "\n"
          ]
        }
      ]
    },
    {
      "cell_type": "code",
      "source": [
        "X_train, X_test, y_train, y_test = train_test_split(X, dialect, test_size=0.1)\n",
        "mn = 1\n",
        "mx = 1\n",
        "text_clf = Pipeline([('vect', CountVectorizer(ngram_range=(mn, mx))),\n",
        "                                  ('tfidf', TfidfTransformer()),\n",
        "                                  ('clf', MultinomialNB()), ])\n",
        "text_clf.fit(X_train, y_train) \n",
        "predicted = text_clf.predict(X_test)\n",
        "print(f1_score(y_test,predicted, average='weighted'))\n",
        "print(classification_report(y_test, predicted))"
      ],
      "metadata": {
        "colab": {
          "base_uri": "https://localhost:8080/"
        },
        "id": "4_AI1UyG45-l",
        "outputId": "6a475624-8906-42c6-dbb8-40636442e55f"
      },
      "execution_count": 5,
      "outputs": [
        {
          "output_type": "stream",
          "name": "stdout",
          "text": [
            "0.47952333761185556\n",
            "              precision    recall  f1-score   support\n",
            "\n",
            "           0       0.70      0.59      0.64       927\n",
            "           1       0.71      0.51      0.59       927\n",
            "           2       0.33      0.52      0.41       883\n",
            "           3       0.41      0.38      0.39       950\n",
            "           4       0.46      0.40      0.43       872\n",
            "           5       0.60      0.56      0.58       853\n",
            "           6       0.36      0.31      0.33       875\n",
            "           7       0.74      0.67      0.70       904\n",
            "           8       0.35      0.35      0.35       917\n",
            "           9       0.47      0.30      0.37       963\n",
            "          10       0.50      0.54      0.52       867\n",
            "          11       0.55      0.79      0.65       931\n",
            "          12       0.55      0.66      0.60       920\n",
            "          13       0.43      0.41      0.42       889\n",
            "          14       0.40      0.30      0.35       910\n",
            "          15       0.62      0.64      0.63       852\n",
            "          16       0.31      0.44      0.37       868\n",
            "          17       0.33      0.30      0.32       892\n",
            "\n",
            "    accuracy                           0.48     16200\n",
            "   macro avg       0.49      0.48      0.48     16200\n",
            "weighted avg       0.49      0.48      0.48     16200\n",
            "\n"
          ]
        }
      ]
    }
  ],
  "metadata": {
    "colab": {
      "name": "Model Training(traditional).ipynb",
      "provenance": [],
      "collapsed_sections": [],
      "mount_file_id": "1UUR9xdsoAuVU_nuwb-DN1cqE8QSFyRkt",
      "authorship_tag": "ABX9TyMI9c29eBS8wxq/M/kwErAX",
      "include_colab_link": true
    },
    "kernelspec": {
      "display_name": "Python 3",
      "name": "python3"
    },
    "language_info": {
      "name": "python"
    }
  },
  "nbformat": 4,
  "nbformat_minor": 0
}